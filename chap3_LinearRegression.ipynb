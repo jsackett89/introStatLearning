{
 "cells": [
  {
   "cell_type": "markdown",
   "metadata": {},
   "source": [
    "# Chapter 3: Linear Regression\n",
    "\n",
    "### Advertising data set"
   ]
  },
  {
   "cell_type": "code",
   "execution_count": 2,
   "metadata": {
    "collapsed": false
   },
   "outputs": [],
   "source": [
    "# Import necessary packages\n",
    "import numpy as np\n",
    "from scipy import stats\n",
    "import pandas as pd\n",
    "%matplotlib inline\n",
    "import matplotlib.pyplot as plt\n",
    "from mpl_toolkits.mplot3d import Axes3D\n",
    "from sklearn import linear_model, feature_selection\n",
    "from IPython.display import display, HTML"
   ]
  },
  {
   "cell_type": "code",
   "execution_count": 3,
   "metadata": {
    "collapsed": false
   },
   "outputs": [],
   "source": [
    "# Read in Advertising data set\n",
    "adv = pd.read_csv(\"http://www-bcf.usc.edu/~gareth/ISL/Advertising.csv\", index_col = \"Unnamed: 0\")"
   ]
  },
  {
   "cell_type": "code",
   "execution_count": 4,
   "metadata": {
    "collapsed": false
   },
   "outputs": [
    {
     "data": {
      "text/html": [
       "<div>\n",
       "<table border=\"1\" class=\"dataframe\">\n",
       "  <thead>\n",
       "    <tr style=\"text-align: right;\">\n",
       "      <th></th>\n",
       "      <th>TV</th>\n",
       "      <th>Radio</th>\n",
       "      <th>Newspaper</th>\n",
       "      <th>Sales</th>\n",
       "    </tr>\n",
       "  </thead>\n",
       "  <tbody>\n",
       "    <tr>\n",
       "      <th>1</th>\n",
       "      <td>230.1</td>\n",
       "      <td>37.8</td>\n",
       "      <td>69.2</td>\n",
       "      <td>22.1</td>\n",
       "    </tr>\n",
       "    <tr>\n",
       "      <th>2</th>\n",
       "      <td>44.5</td>\n",
       "      <td>39.3</td>\n",
       "      <td>45.1</td>\n",
       "      <td>10.4</td>\n",
       "    </tr>\n",
       "    <tr>\n",
       "      <th>3</th>\n",
       "      <td>17.2</td>\n",
       "      <td>45.9</td>\n",
       "      <td>69.3</td>\n",
       "      <td>9.3</td>\n",
       "    </tr>\n",
       "    <tr>\n",
       "      <th>4</th>\n",
       "      <td>151.5</td>\n",
       "      <td>41.3</td>\n",
       "      <td>58.5</td>\n",
       "      <td>18.5</td>\n",
       "    </tr>\n",
       "    <tr>\n",
       "      <th>5</th>\n",
       "      <td>180.8</td>\n",
       "      <td>10.8</td>\n",
       "      <td>58.4</td>\n",
       "      <td>12.9</td>\n",
       "    </tr>\n",
       "  </tbody>\n",
       "</table>\n",
       "</div>"
      ],
      "text/plain": [
       "      TV  Radio  Newspaper  Sales\n",
       "1  230.1   37.8       69.2   22.1\n",
       "2   44.5   39.3       45.1   10.4\n",
       "3   17.2   45.9       69.3    9.3\n",
       "4  151.5   41.3       58.5   18.5\n",
       "5  180.8   10.8       58.4   12.9"
      ]
     },
     "metadata": {},
     "output_type": "display_data"
    }
   ],
   "source": [
    "# Display head of data set\n",
    "display(adv.head(5))"
   ]
  },
  {
   "cell_type": "code",
   "execution_count": 5,
   "metadata": {
    "collapsed": false
   },
   "outputs": [
    {
     "data": {
      "text/html": [
       "<div>\n",
       "<table border=\"1\" class=\"dataframe\">\n",
       "  <thead>\n",
       "    <tr style=\"text-align: right;\">\n",
       "      <th></th>\n",
       "      <th>TV</th>\n",
       "      <th>Radio</th>\n",
       "      <th>Newspaper</th>\n",
       "      <th>Sales</th>\n",
       "    </tr>\n",
       "  </thead>\n",
       "  <tbody>\n",
       "    <tr>\n",
       "      <th>TV</th>\n",
       "      <td>1.000000</td>\n",
       "      <td>0.054809</td>\n",
       "      <td>0.056648</td>\n",
       "      <td>0.782224</td>\n",
       "    </tr>\n",
       "    <tr>\n",
       "      <th>Radio</th>\n",
       "      <td>0.054809</td>\n",
       "      <td>1.000000</td>\n",
       "      <td>0.354104</td>\n",
       "      <td>0.576223</td>\n",
       "    </tr>\n",
       "    <tr>\n",
       "      <th>Newspaper</th>\n",
       "      <td>0.056648</td>\n",
       "      <td>0.354104</td>\n",
       "      <td>1.000000</td>\n",
       "      <td>0.228299</td>\n",
       "    </tr>\n",
       "    <tr>\n",
       "      <th>Sales</th>\n",
       "      <td>0.782224</td>\n",
       "      <td>0.576223</td>\n",
       "      <td>0.228299</td>\n",
       "      <td>1.000000</td>\n",
       "    </tr>\n",
       "  </tbody>\n",
       "</table>\n",
       "</div>"
      ],
      "text/plain": [
       "                 TV     Radio  Newspaper     Sales\n",
       "TV         1.000000  0.054809   0.056648  0.782224\n",
       "Radio      0.054809  1.000000   0.354104  0.576223\n",
       "Newspaper  0.056648  0.354104   1.000000  0.228299\n",
       "Sales      0.782224  0.576223   0.228299  1.000000"
      ]
     },
     "metadata": {},
     "output_type": "display_data"
    }
   ],
   "source": [
    "# Correlations between predictors\n",
    "names = [_ for _ in adv.columns]\n",
    "corr = pd.DataFrame(np.corrcoef(adv.T), index = names, columns = names)\n",
    "display(corr)"
   ]
  },
  {
   "cell_type": "code",
   "execution_count": 6,
   "metadata": {
    "collapsed": true
   },
   "outputs": [],
   "source": [
    "# Initialize linear regression objects\n",
    "fullModel = linear_model.LinearRegression()\n",
    "reducedModel = linear_model.LinearRegression()"
   ]
  },
  {
   "cell_type": "code",
   "execution_count": 7,
   "metadata": {
    "collapsed": false
   },
   "outputs": [
    {
     "data": {
      "text/plain": [
       "LinearRegression(copy_X=True, fit_intercept=True, n_jobs=1, normalize=False)"
      ]
     },
     "execution_count": 7,
     "metadata": {},
     "output_type": "execute_result"
    }
   ],
   "source": [
    "# Fit regression\n",
    "fullModel.fit(adv[[\"TV\", \"Radio\", \"Newspaper\"]], adv[\"Sales\"])"
   ]
  },
  {
   "cell_type": "code",
   "execution_count": 8,
   "metadata": {
    "collapsed": false
   },
   "outputs": [
    {
     "name": "stdout",
     "output_type": "stream",
     "text": [
      "[  2.93888937e+00   4.57646455e-02   1.88530017e-01  -1.03749304e-03]\n"
     ]
    }
   ],
   "source": [
    "# Print intercept, coefficients\n",
    "advFullParams = np.insert(fullModel.coef_, 0, fullModel.intercept_)\n",
    "print advFullParams"
   ]
  },
  {
   "cell_type": "code",
   "execution_count": 9,
   "metadata": {
    "collapsed": false
   },
   "outputs": [
    {
     "name": "stdout",
     "output_type": "stream",
     "text": [
      "Sum of square residuals, full model: 556.82526\n",
      "Residual standard error, full model: 1.68551\n",
      "F-statistic: 570.27070\n",
      "R^2: 0.89721\n",
      "Adjusted R^2: 0.89564\n"
     ]
    }
   ],
   "source": [
    "# Model fit statistics\n",
    "tss = sum((adv[\"Sales\"] - np.mean(adv[\"Sales\"]))**2)\n",
    "rss = sum((adv[\"Sales\"] - fullModel.predict(adv[[\"TV\", \"Radio\", \"Newspaper\"]]))**2)\n",
    "rse = np.sqrt(rss / (adv.shape[0] - 1 - np.size(fullModel.coef_)))\n",
    "f_stat = ((tss - rss) / np.size(fullModel.coef_)) / (rss / (adv.shape[0] - np.size(fullModel.coef_) - 1))\n",
    "r2 = fullModel.score(adv[[\"TV\", \"Radio\", \"Newspaper\"]], adv[\"Sales\"])\n",
    "r2adj = 1 - ((1-r2) * (adv.shape[0] - 1)) / (adv.shape[0] - np.size(fullModel.coef_) - 1)\n",
    "print \"Sum of square residuals, full model: %.5f\" % rss\n",
    "print \"Residual standard error, full model: %.5f\" % rse\n",
    "print \"F-statistic: %.5f\" % f_stat\n",
    "print \"R^2: %.5f\" % r2\n",
    "print \"Adjusted R^2: %.5f\" % r2adj"
   ]
  },
  {
   "cell_type": "code",
   "execution_count": 10,
   "metadata": {
    "collapsed": false
   },
   "outputs": [
    {
     "name": "stdout",
     "output_type": "stream",
     "text": [
      "Sum of square errors, reduced model: 556.914\n",
      "F-statistic, reduced model: 0.031\n",
      "R^2: 0.897\n",
      "Adjusted R^2: 0.89615\n"
     ]
    }
   ],
   "source": [
    "# Reduced model\n",
    "reducedModel.fit(adv[[\"TV\", \"Radio\"]], adv[\"Sales\"])\n",
    "rssReduced = sum((adv[\"Sales\"] - reducedModel.predict(adv[[\"TV\", \"Radio\"]]))**2)\n",
    "f_statReduced = ((rssReduced - rss) / (np.size(fullModel.coef_) - np.size(reducedModel.coef_))) / (rss / (adv.shape[0] - np.size(fullModel.coef_) - 1))\n",
    "r2Reduced = reducedModel.score(adv[[\"TV\", \"Radio\"]], adv[\"Sales\"])\n",
    "r2adjReduced = 1 - ((1-r2Reduced) * (adv.shape[0] - 1)) / (adv.shape[0] - np.size(reducedModel.coef_) - 1)\n",
    "print \"Sum of square errors, reduced model: %.3f\" % rssReduced\n",
    "print \"F-statistic, reduced model: %.3f\" % f_statReduced\n",
    "print \"R^2: %.3f\" % r2Reduced\n",
    "print \"Adjusted R^2: %.5f\" % r2adjReduced"
   ]
  },
  {
   "cell_type": "markdown",
   "metadata": {},
   "source": [
    "#### Since the F-statistic is very small, we can conclude that the full model does not fit the data significantly better than the reduced model. Furthermore, the slightly higher adjusted R^2 value for the reduced model suggests that it is a better model. "
   ]
  },
  {
   "cell_type": "code",
   "execution_count": 11,
   "metadata": {
    "collapsed": false
   },
   "outputs": [
    {
     "data": {
      "image/png": "[encoded data removed]",
      "text/plain": [
       "<matplotlib.figure.Figure at 0xaf1ddd8>"
      ]
     },
     "metadata": {},
     "output_type": "display_data"
    }
   ],
   "source": [
    "# 3d plot\n",
    "fig = plt.figure()\n",
    "ax = fig.add_subplot(111, projection = \"3d\")\n",
    "ax.scatter3D(adv[\"TV\"], adv[\"Radio\"], adv[\"Sales\"])\n",
    "ax.plot_trisurf(adv[\"TV\"], adv[\"Radio\"], reducedModel.predict(adv[[\"TV\", \"Radio\"]]), color = \"green\")\n",
    "plt.show()"
   ]
  },
  {
   "cell_type": "code",
   "execution_count": 12,
   "metadata": {
    "collapsed": false
   },
   "outputs": [
    {
     "data": {
      "text/html": [
       "<div>\n",
       "<table border=\"1\" class=\"dataframe\">\n",
       "  <thead>\n",
       "    <tr style=\"text-align: right;\">\n",
       "      <th></th>\n",
       "      <th>TV</th>\n",
       "      <th>Radio</th>\n",
       "      <th>Newspaper</th>\n",
       "      <th>Sales</th>\n",
       "      <th>TV_by_Radio</th>\n",
       "    </tr>\n",
       "  </thead>\n",
       "  <tbody>\n",
       "    <tr>\n",
       "      <th>1</th>\n",
       "      <td>230.1</td>\n",
       "      <td>37.8</td>\n",
       "      <td>69.2</td>\n",
       "      <td>22.1</td>\n",
       "      <td>8697.78</td>\n",
       "    </tr>\n",
       "    <tr>\n",
       "      <th>2</th>\n",
       "      <td>44.5</td>\n",
       "      <td>39.3</td>\n",
       "      <td>45.1</td>\n",
       "      <td>10.4</td>\n",
       "      <td>1748.85</td>\n",
       "    </tr>\n",
       "    <tr>\n",
       "      <th>3</th>\n",
       "      <td>17.2</td>\n",
       "      <td>45.9</td>\n",
       "      <td>69.3</td>\n",
       "      <td>9.3</td>\n",
       "      <td>789.48</td>\n",
       "    </tr>\n",
       "    <tr>\n",
       "      <th>4</th>\n",
       "      <td>151.5</td>\n",
       "      <td>41.3</td>\n",
       "      <td>58.5</td>\n",
       "      <td>18.5</td>\n",
       "      <td>6256.95</td>\n",
       "    </tr>\n",
       "    <tr>\n",
       "      <th>5</th>\n",
       "      <td>180.8</td>\n",
       "      <td>10.8</td>\n",
       "      <td>58.4</td>\n",
       "      <td>12.9</td>\n",
       "      <td>1952.64</td>\n",
       "    </tr>\n",
       "  </tbody>\n",
       "</table>\n",
       "</div>"
      ],
      "text/plain": [
       "      TV  Radio  Newspaper  Sales  TV_by_Radio\n",
       "1  230.1   37.8       69.2   22.1      8697.78\n",
       "2   44.5   39.3       45.1   10.4      1748.85\n",
       "3   17.2   45.9       69.3    9.3       789.48\n",
       "4  151.5   41.3       58.5   18.5      6256.95\n",
       "5  180.8   10.8       58.4   12.9      1952.64"
      ]
     },
     "metadata": {},
     "output_type": "display_data"
    }
   ],
   "source": [
    "adv[\"TV_by_Radio\"] = adv[\"TV\"] * adv[\"Radio\"]\n",
    "display(adv.head(5))"
   ]
  },
  {
   "cell_type": "code",
   "execution_count": 13,
   "metadata": {
    "collapsed": false
   },
   "outputs": [
    {
     "name": "stdout",
     "output_type": "stream",
     "text": [
      "Sum of square errors, interaction model: 174.483\n",
      "Residual standard error, interaction model: 0.944\n",
      "F-statistic, interaction model: 1963.057\n",
      "R^2, interaction model: 0.968\n",
      "Adjusted R^2, interaction model: 0.967\n"
     ]
    }
   ],
   "source": [
    "# Interaction model\n",
    "interactModel = linear_model.LinearRegression()\n",
    "interactModel.fit(adv[[\"TV\", \"Radio\", \"TV_by_Radio\"]], adv[\"Sales\"])\n",
    "rssInteract = sum((adv[\"Sales\"] - interactModel.predict(adv[[\"TV\", \"Radio\", \"TV_by_Radio\"]]))**2)\n",
    "varInteract = rssInteract / (adv.shape[0] - np.size(interactModel.coef_) - 1)\n",
    "rseInteract = np.sqrt(rssInteract / (adv.shape[0] - 1 - np.size(interactModel.coef_)))\n",
    "f_Interact = ((tss - rssInteract) / np.size(interactModel.coef_)) / (rssInteract / (adv.shape[0] - np.size(interactModel.coef_) - 1))\n",
    "r2Interact = interactModel.score(adv[[\"TV\", \"Radio\", \"TV_by_Radio\"]], adv[\"Sales\"])\n",
    "r2adjInteract = 1 - ((1-r2Interact) * (adv.shape[0] - 1)) / (adv.shape[0] - np.size(interactModel.coef_) - 1)\n",
    "print \"Sum of square errors, interaction model: %.3f\" % rssInteract\n",
    "print \"Residual standard error, interaction model: %.3f\" % rseInteract\n",
    "print \"F-statistic, interaction model: %.3f\" % f_Interact\n",
    "print \"R^2, interaction model: %.3f\" % r2Interact\n",
    "print \"Adjusted R^2, interaction model: %.3f\" % r2adjInteract"
   ]
  },
  {
   "cell_type": "markdown",
   "metadata": {},
   "source": [
    "#### The model accounting for the interaction between TV and Radio spending best fits the data.\n",
    "#### Now, let's look at some diagnostics for this model."
   ]
  },
  {
   "cell_type": "code",
   "execution_count": 14,
   "metadata": {
    "collapsed": false
   },
   "outputs": [
    {
     "name": "stdout",
     "output_type": "stream",
     "text": [
      "[  6.75022020e+00   1.91010738e-02   2.88603399e-02   1.08649470e-03]\n"
     ]
    }
   ],
   "source": [
    "# Combine all parameters into one list for easy vectorization of later calculations\n",
    "interactParams = np.insert(interactModel.coef_, 0, interactModel.intercept_)\n",
    "print interactParams"
   ]
  },
  {
   "cell_type": "code",
   "execution_count": 15,
   "metadata": {
    "collapsed": false
   },
   "outputs": [
    {
     "name": "stdout",
     "output_type": "stream",
     "text": [
      "Intercept and Regression Coefficients:  [  6.75022020e+00   1.91010738e-02   2.88603399e-02   1.08649470e-03]\n",
      "Standard Errors of Estimates:  [  2.47871370e-01   1.50414551e-03   8.90527286e-03   5.24203958e-05]\n",
      "T-Statistics of Estimates:  [ 27.23275465  12.69895347   3.24081478  20.72656418]\n",
      "P-values:  [  4.83102378e-69   1.88824182e-27   1.39717054e-03   1.35492577e-51]\n"
     ]
    }
   ],
   "source": [
    "# Add column of 1's to more easily construct the design matrix\n",
    "adv[\"Intercept\"] = 1\n",
    "\n",
    "# Design/predictor matrix\n",
    "predMat = np.matrix(adv[[\"Intercept\", \"TV\", \"Radio\", \"TV_by_Radio\"]])\n",
    "\n",
    "# Covariance matrix\n",
    "covInteract = varInteract * np.linalg.inv(predMat.T * predMat)\n",
    "\n",
    "# Standard error of each predictor\n",
    "stdErrors = np.sqrt(np.diag(covInteract))\n",
    "\n",
    "# t-statistic of each predictor\n",
    "tTests = interactParams / stdErrors\n",
    "\n",
    "# p-value of each predictor\n",
    "pVals = stats.t.sf(np.abs(tTests), adv.shape[0] - 1) * 2\n",
    "\n",
    "print \"Intercept and Regression Coefficients: \", interactParams\n",
    "print \"Standard Errors of Estimates: \", stdErrors\n",
    "print \"T-Statistics of Estimates: \", tTests\n",
    "print \"P-values: \", pVals"
   ]
  },
  {
   "cell_type": "markdown",
   "metadata": {},
   "source": [
    "#### All 3 predictors and the intercept are significant."
   ]
  },
  {
   "cell_type": "code",
   "execution_count": 16,
   "metadata": {
    "collapsed": false
   },
   "outputs": [
    {
     "data": {
      "text/html": [
       "<div>\n",
       "<table border=\"1\" class=\"dataframe\">\n",
       "  <thead>\n",
       "    <tr style=\"text-align: right;\">\n",
       "      <th></th>\n",
       "      <th>TV</th>\n",
       "      <th>Radio</th>\n",
       "      <th>Newspaper</th>\n",
       "      <th>Sales</th>\n",
       "      <th>TV_by_Radio</th>\n",
       "      <th>Intercept</th>\n",
       "      <th>Predicted Values</th>\n",
       "      <th>Raw Residuals</th>\n",
       "      <th>Leverage</th>\n",
       "      <th>Studentized Residuals</th>\n",
       "    </tr>\n",
       "  </thead>\n",
       "  <tbody>\n",
       "    <tr>\n",
       "      <th>1</th>\n",
       "      <td>230.1</td>\n",
       "      <td>37.8</td>\n",
       "      <td>69.2</td>\n",
       "      <td>22.1</td>\n",
       "      <td>8697.78</td>\n",
       "      <td>1</td>\n",
       "      <td>21.686390</td>\n",
       "      <td>0.413610</td>\n",
       "      <td>0.017370</td>\n",
       "      <td>0.442229</td>\n",
       "    </tr>\n",
       "    <tr>\n",
       "      <th>2</th>\n",
       "      <td>44.5</td>\n",
       "      <td>39.3</td>\n",
       "      <td>45.1</td>\n",
       "      <td>10.4</td>\n",
       "      <td>1748.85</td>\n",
       "      <td>1</td>\n",
       "      <td>10.634546</td>\n",
       "      <td>-0.234546</td>\n",
       "      <td>0.026436</td>\n",
       "      <td>-0.251939</td>\n",
       "    </tr>\n",
       "    <tr>\n",
       "      <th>3</th>\n",
       "      <td>17.2</td>\n",
       "      <td>45.9</td>\n",
       "      <td>69.3</td>\n",
       "      <td>9.3</td>\n",
       "      <td>789.48</td>\n",
       "      <td>1</td>\n",
       "      <td>9.261214</td>\n",
       "      <td>0.038786</td>\n",
       "      <td>0.054256</td>\n",
       "      <td>0.042271</td>\n",
       "    </tr>\n",
       "    <tr>\n",
       "      <th>4</th>\n",
       "      <td>151.5</td>\n",
       "      <td>41.3</td>\n",
       "      <td>58.5</td>\n",
       "      <td>18.5</td>\n",
       "      <td>6256.95</td>\n",
       "      <td>1</td>\n",
       "      <td>17.634108</td>\n",
       "      <td>0.865892</td>\n",
       "      <td>0.012418</td>\n",
       "      <td>0.923481</td>\n",
       "    </tr>\n",
       "    <tr>\n",
       "      <th>5</th>\n",
       "      <td>180.8</td>\n",
       "      <td>10.8</td>\n",
       "      <td>58.4</td>\n",
       "      <td>12.9</td>\n",
       "      <td>1952.64</td>\n",
       "      <td>1</td>\n",
       "      <td>12.636919</td>\n",
       "      <td>0.263081</td>\n",
       "      <td>0.010415</td>\n",
       "      <td>0.280294</td>\n",
       "    </tr>\n",
       "  </tbody>\n",
       "</table>\n",
       "</div>"
      ],
      "text/plain": [
       "      TV  Radio  Newspaper  Sales  TV_by_Radio  Intercept  Predicted Values  \\\n",
       "1  230.1   37.8       69.2   22.1      8697.78          1         21.686390   \n",
       "2   44.5   39.3       45.1   10.4      1748.85          1         10.634546   \n",
       "3   17.2   45.9       69.3    9.3       789.48          1          9.261214   \n",
       "4  151.5   41.3       58.5   18.5      6256.95          1         17.634108   \n",
       "5  180.8   10.8       58.4   12.9      1952.64          1         12.636919   \n",
       "\n",
       "   Raw Residuals  Leverage  Studentized Residuals  \n",
       "1       0.413610  0.017370               0.442229  \n",
       "2      -0.234546  0.026436              -0.251939  \n",
       "3       0.038786  0.054256               0.042271  \n",
       "4       0.865892  0.012418               0.923481  \n",
       "5       0.263081  0.010415               0.280294  "
      ]
     },
     "metadata": {},
     "output_type": "display_data"
    }
   ],
   "source": [
    "# Hat matrix\n",
    "hatMatrix = predMat * np.linalg.inv(predMat.T * predMat) * predMat.T\n",
    "\n",
    "# Add columns different diagnostics \n",
    "adv[\"Predicted Values\"] = interactModel.predict(adv[[\"TV\", \"Radio\", \"TV_by_Radio\"]])\n",
    "adv[\"Raw Residuals\"] = adv[\"Sales\"] - adv[\"Predicted Values\"]\n",
    "adv[\"Leverage\"] = np.diag(hatMatrix)\n",
    "adv[\"Studentized Residuals\"] = adv[\"Raw Residuals\"] / (np.sqrt(varInteract * (1 - adv[\"Leverage\"])))\n",
    "display(adv.head(5))"
   ]
  },
  {
   "cell_type": "code",
   "execution_count": 17,
   "metadata": {
    "collapsed": false
   },
   "outputs": [
    {
     "data": {
      "image/png": "[encoded data removed]",
      "text/plain": [
       "<matplotlib.figure.Figure at 0xb42d160>"
      ]
     },
     "metadata": {},
     "output_type": "display_data"
    },
    {
     "data": {
      "image/png": "[encoded data removed]",
      "text/plain": [
       "<matplotlib.figure.Figure at 0xd64ca90>"
      ]
     },
     "metadata": {},
     "output_type": "display_data"
    },
    {
     "data": {
      "image/png": "[encoded data removed]",
      "text/plain": [
       "<matplotlib.figure.Figure at 0xd723048>"
      ]
     },
     "metadata": {},
     "output_type": "display_data"
    },
    {
     "data": {
      "image/png": "[encoded data removed]",
      "text/plain": [
       "<matplotlib.figure.Figure at 0xd71a400>"
      ]
     },
     "metadata": {},
     "output_type": "display_data"
    }
   ],
   "source": [
    "# Investigate diagnostics\n",
    "\n",
    "# Plot of leverage vs. studentized residuals to look for significant outliers\n",
    "plt.scatter(adv[\"Leverage\"], adv[\"Studentized Residuals\"])\n",
    "plt.xlabel(\"Leverage\")\n",
    "plt.ylabel(\"Studentized Residuals\")\n",
    "plt.show()\n",
    "\n",
    "# Plot of predicted vs. observed values to determine fit, linearity\n",
    "plt.scatter(adv[\"Predicted Values\"], adv[\"Sales\"])\n",
    "plt.xlabel(\"Predicted Values\")\n",
    "plt.ylabel(\"Observed Values\")\n",
    "plt.show()\n",
    "\n",
    "# Histogram of residuals (to test normality of errors)\n",
    "plt.hist(adv[\"Raw Residuals\"], bins = 20)\n",
    "plt.title(\"Histogram of errors\")\n",
    "plt.show()\n",
    "\n",
    "# Plot of fitted values vs. residuals (to test for homoscedasticity)\n",
    "plt.scatter(adv[\"Predicted Values\"], adv[\"Studentized Residuals\"])\n",
    "plt.xlabel(\"Predicted Values\")\n",
    "plt.ylabel(\"Studentized Residuals\")\n",
    "plt.show()"
   ]
  },
  {
   "cell_type": "markdown",
   "metadata": {},
   "source": [
    "# Chapter Exercises\n",
    "\n",
    "## 8) Simple linear regression"
   ]
  },
  {
   "cell_type": "code",
   "execution_count": 18,
   "metadata": {
    "collapsed": false
   },
   "outputs": [
    {
     "data": {
      "text/html": [
       "<div>\n",
       "<table border=\"1\" class=\"dataframe\">\n",
       "  <thead>\n",
       "    <tr style=\"text-align: right;\">\n",
       "      <th></th>\n",
       "      <th>mpg</th>\n",
       "      <th>cylinders</th>\n",
       "      <th>displacement</th>\n",
       "      <th>horsepower</th>\n",
       "      <th>weight</th>\n",
       "      <th>acceleration</th>\n",
       "      <th>year</th>\n",
       "      <th>origin</th>\n",
       "      <th>name</th>\n",
       "    </tr>\n",
       "  </thead>\n",
       "  <tbody>\n",
       "    <tr>\n",
       "      <th>0</th>\n",
       "      <td>18.0</td>\n",
       "      <td>8</td>\n",
       "      <td>307.0</td>\n",
       "      <td>130.0</td>\n",
       "      <td>3504.0</td>\n",
       "      <td>12.0</td>\n",
       "      <td>70</td>\n",
       "      <td>1</td>\n",
       "      <td>chevrolet chevelle malibu</td>\n",
       "    </tr>\n",
       "    <tr>\n",
       "      <th>1</th>\n",
       "      <td>15.0</td>\n",
       "      <td>8</td>\n",
       "      <td>350.0</td>\n",
       "      <td>165.0</td>\n",
       "      <td>3693.0</td>\n",
       "      <td>11.5</td>\n",
       "      <td>70</td>\n",
       "      <td>1</td>\n",
       "      <td>buick skylark 320</td>\n",
       "    </tr>\n",
       "    <tr>\n",
       "      <th>2</th>\n",
       "      <td>18.0</td>\n",
       "      <td>8</td>\n",
       "      <td>318.0</td>\n",
       "      <td>150.0</td>\n",
       "      <td>3436.0</td>\n",
       "      <td>11.0</td>\n",
       "      <td>70</td>\n",
       "      <td>1</td>\n",
       "      <td>plymouth satellite</td>\n",
       "    </tr>\n",
       "    <tr>\n",
       "      <th>3</th>\n",
       "      <td>16.0</td>\n",
       "      <td>8</td>\n",
       "      <td>304.0</td>\n",
       "      <td>150.0</td>\n",
       "      <td>3433.0</td>\n",
       "      <td>12.0</td>\n",
       "      <td>70</td>\n",
       "      <td>1</td>\n",
       "      <td>amc rebel sst</td>\n",
       "    </tr>\n",
       "    <tr>\n",
       "      <th>4</th>\n",
       "      <td>17.0</td>\n",
       "      <td>8</td>\n",
       "      <td>302.0</td>\n",
       "      <td>140.0</td>\n",
       "      <td>3449.0</td>\n",
       "      <td>10.5</td>\n",
       "      <td>70</td>\n",
       "      <td>1</td>\n",
       "      <td>ford torino</td>\n",
       "    </tr>\n",
       "  </tbody>\n",
       "</table>\n",
       "</div>"
      ],
      "text/plain": [
       "    mpg  cylinders  displacement  horsepower  weight  acceleration  year  \\\n",
       "0  18.0          8         307.0       130.0  3504.0          12.0    70   \n",
       "1  15.0          8         350.0       165.0  3693.0          11.5    70   \n",
       "2  18.0          8         318.0       150.0  3436.0          11.0    70   \n",
       "3  16.0          8         304.0       150.0  3433.0          12.0    70   \n",
       "4  17.0          8         302.0       140.0  3449.0          10.5    70   \n",
       "\n",
       "   origin                       name  \n",
       "0       1  chevrolet chevelle malibu  \n",
       "1       1          buick skylark 320  \n",
       "2       1         plymouth satellite  \n",
       "3       1              amc rebel sst  \n",
       "4       1                ford torino  "
      ]
     },
     "metadata": {},
     "output_type": "display_data"
    }
   ],
   "source": [
    "# Read in auto data\n",
    "auto = pd.read_table('https://archive.ics.uci.edu/ml/machine-learning-databases/auto-mpg/auto-mpg.data', delim_whitespace = True,\n",
    "                     header = None, names = ['mpg', 'cylinders', 'displacement', 'horsepower', 'weight', 'acceleration', 'year', 'origin', 'name'],\n",
    "                     na_values = \"?\")\n",
    "display(auto.head(5))"
   ]
  },
  {
   "cell_type": "code",
   "execution_count": 19,
   "metadata": {
    "collapsed": false
   },
   "outputs": [
    {
     "name": "stdout",
     "output_type": "stream",
     "text": [
      "[ 39.93586102  -0.15784473]\n"
     ]
    }
   ],
   "source": [
    "# a) Simple regression - horsepower\n",
    "\n",
    "# Remove missing values from data set\n",
    "auto = auto.ix[~np.isnan(auto[\"horsepower\"])]\n",
    "\n",
    "# Initiate and fit linear regression object\n",
    "autoSimple = linear_model.LinearRegression()\n",
    "autoSimple.fit(auto[\"horsepower\"].reshape(-1, 1), auto[\"mpg\"])\n",
    "\n",
    "# Concatenate and print parameters\n",
    "autoParams = np.insert(autoSimple.coef_, 0, autoSimple.intercept_)\n",
    "print autoParams"
   ]
  },
  {
   "cell_type": "code",
   "execution_count": 20,
   "metadata": {
    "collapsed": false,
    "scrolled": true
   },
   "outputs": [
    {
     "name": "stdout",
     "output_type": "stream",
     "text": [
      "Sum of square errors, full model: 9385.916\n",
      "Residual standard error, full model: 4.906\n",
      "F-statistic: 599.718\n",
      "R^2: 0.606\n"
     ]
    }
   ],
   "source": [
    "# Model fit statistics\n",
    "tssAuto = sum((auto[\"mpg\"] - np.mean(auto[\"mpg\"]))**2)\n",
    "rssAuto = sum((auto[\"mpg\"] - autoSimple.predict(auto[\"horsepower\"].reshape(-1, 1)))**2)\n",
    "rseAuto = np.sqrt(rssAuto / (auto.shape[0] - 1 - np.size(autoSimple.coef_)))\n",
    "fAuto = ((tssAuto - rssAuto) / np.size(autoSimple.coef_)) / (rssAuto / (auto.shape[0] - np.size(autoSimple.coef_) - 1))\n",
    "r2Auto = autoSimple.score(auto[\"horsepower\"].reshape(-1, 1), auto[\"mpg\"])\n",
    "print \"Sum of square errors, full model: %.3f\" % rssAuto\n",
    "print \"Residual standard error, full model: %.3f\" % rseAuto\n",
    "print \"F-statistic: %.3f\" % fAuto\n",
    "print \"R^2: %.3f\" % r2Auto"
   ]
  },
  {
   "cell_type": "code",
   "execution_count": 21,
   "metadata": {
    "collapsed": false
   },
   "outputs": [
    {
     "name": "stdout",
     "output_type": "stream",
     "text": [
      "Intercept and Regression Coefficients:  [ 39.93586102  -0.15784473]\n",
      "Standard Errors of Estimates:  [ 0.71749866  0.0064455 ]\n",
      "T-Statistics of Estimates:  [ 55.65984091 -24.48913516]\n",
      "P-values:  [  6.35807240e-188   5.97311375e-081]\n"
     ]
    }
   ],
   "source": [
    "# Summary of predictors\n",
    "\n",
    "# Create column of 1's to build design matrix\n",
    "auto.loc[:,\"Intercept\"] = 1\n",
    "\n",
    "# Design matrix\n",
    "predMat = np.matrix(auto[[\"Intercept\", \"horsepower\"]])\n",
    "\n",
    "# Error variance\n",
    "varAuto = rssAuto / (auto.shape[0] - np.size(autoSimple.coef_) - 1)\n",
    "\n",
    "# Covariance\n",
    "covAuto = varAuto * np.linalg.inv(predMat.T * predMat)\n",
    "\n",
    "# Standard errors\n",
    "stdErrors = np.sqrt(np.diag(covAuto))\n",
    "\n",
    "# t-statistics\n",
    "tTests = autoParams / stdErrors\n",
    "\n",
    "# p-values\n",
    "pVals = stats.t.sf(np.abs(tTests), auto.shape[0] - 1) * 2 \n",
    "\n",
    "# Print summary of predictors\n",
    "print \"Intercept and Regression Coefficients: \", autoParams\n",
    "print \"Standard Errors of Estimates: \", stdErrors\n",
    "print \"T-Statistics of Estimates: \", tTests\n",
    "print \"P-values: \", pVals"
   ]
  },
  {
   "cell_type": "code",
   "execution_count": 22,
   "metadata": {
    "collapsed": false
   },
   "outputs": [
    {
     "data": {
      "text/html": [
       "<div>\n",
       "<table border=\"1\" class=\"dataframe\">\n",
       "  <thead>\n",
       "    <tr style=\"text-align: right;\">\n",
       "      <th></th>\n",
       "      <th>mpg</th>\n",
       "      <th>cylinders</th>\n",
       "      <th>displacement</th>\n",
       "      <th>horsepower</th>\n",
       "      <th>weight</th>\n",
       "      <th>acceleration</th>\n",
       "      <th>year</th>\n",
       "      <th>origin</th>\n",
       "      <th>name</th>\n",
       "      <th>Intercept</th>\n",
       "      <th>Predicted Values</th>\n",
       "      <th>Raw Residuals</th>\n",
       "      <th>Squared Residuals</th>\n",
       "      <th>Leverage</th>\n",
       "      <th>Studentized Residuals</th>\n",
       "    </tr>\n",
       "  </thead>\n",
       "  <tbody>\n",
       "    <tr>\n",
       "      <th>0</th>\n",
       "      <td>18.0</td>\n",
       "      <td>8</td>\n",
       "      <td>307.0</td>\n",
       "      <td>130.0</td>\n",
       "      <td>3504.0</td>\n",
       "      <td>12.0</td>\n",
       "      <td>70</td>\n",
       "      <td>1</td>\n",
       "      <td>chevrolet chevelle malibu</td>\n",
       "      <td>1</td>\n",
       "      <td>19.416046</td>\n",
       "      <td>-1.416046</td>\n",
       "      <td>2.005185</td>\n",
       "      <td>0.003676</td>\n",
       "      <td>-0.058947</td>\n",
       "    </tr>\n",
       "    <tr>\n",
       "      <th>1</th>\n",
       "      <td>15.0</td>\n",
       "      <td>8</td>\n",
       "      <td>350.0</td>\n",
       "      <td>165.0</td>\n",
       "      <td>3693.0</td>\n",
       "      <td>11.5</td>\n",
       "      <td>70</td>\n",
       "      <td>1</td>\n",
       "      <td>buick skylark 320</td>\n",
       "      <td>1</td>\n",
       "      <td>13.891480</td>\n",
       "      <td>1.108520</td>\n",
       "      <td>1.228817</td>\n",
       "      <td>0.008876</td>\n",
       "      <td>0.046267</td>\n",
       "    </tr>\n",
       "    <tr>\n",
       "      <th>2</th>\n",
       "      <td>18.0</td>\n",
       "      <td>8</td>\n",
       "      <td>318.0</td>\n",
       "      <td>150.0</td>\n",
       "      <td>3436.0</td>\n",
       "      <td>11.0</td>\n",
       "      <td>70</td>\n",
       "      <td>1</td>\n",
       "      <td>plymouth satellite</td>\n",
       "      <td>1</td>\n",
       "      <td>16.259151</td>\n",
       "      <td>1.740849</td>\n",
       "      <td>3.030555</td>\n",
       "      <td>0.006130</td>\n",
       "      <td>0.072558</td>\n",
       "    </tr>\n",
       "    <tr>\n",
       "      <th>3</th>\n",
       "      <td>16.0</td>\n",
       "      <td>8</td>\n",
       "      <td>304.0</td>\n",
       "      <td>150.0</td>\n",
       "      <td>3433.0</td>\n",
       "      <td>12.0</td>\n",
       "      <td>70</td>\n",
       "      <td>1</td>\n",
       "      <td>amc rebel sst</td>\n",
       "      <td>1</td>\n",
       "      <td>16.259151</td>\n",
       "      <td>-0.259151</td>\n",
       "      <td>0.067159</td>\n",
       "      <td>0.006130</td>\n",
       "      <td>-0.010801</td>\n",
       "    </tr>\n",
       "    <tr>\n",
       "      <th>4</th>\n",
       "      <td>17.0</td>\n",
       "      <td>8</td>\n",
       "      <td>302.0</td>\n",
       "      <td>140.0</td>\n",
       "      <td>3449.0</td>\n",
       "      <td>10.5</td>\n",
       "      <td>70</td>\n",
       "      <td>1</td>\n",
       "      <td>ford torino</td>\n",
       "      <td>1</td>\n",
       "      <td>17.837598</td>\n",
       "      <td>-0.837598</td>\n",
       "      <td>0.701571</td>\n",
       "      <td>0.004730</td>\n",
       "      <td>-0.034886</td>\n",
       "    </tr>\n",
       "  </tbody>\n",
       "</table>\n",
       "</div>"
      ],
      "text/plain": [
       "    mpg  cylinders  displacement  horsepower  weight  acceleration  year  \\\n",
       "0  18.0          8         307.0       130.0  3504.0          12.0    70   \n",
       "1  15.0          8         350.0       165.0  3693.0          11.5    70   \n",
       "2  18.0          8         318.0       150.0  3436.0          11.0    70   \n",
       "3  16.0          8         304.0       150.0  3433.0          12.0    70   \n",
       "4  17.0          8         302.0       140.0  3449.0          10.5    70   \n",
       "\n",
       "   origin                       name  Intercept  Predicted Values  \\\n",
       "0       1  chevrolet chevelle malibu          1         19.416046   \n",
       "1       1          buick skylark 320          1         13.891480   \n",
       "2       1         plymouth satellite          1         16.259151   \n",
       "3       1              amc rebel sst          1         16.259151   \n",
       "4       1                ford torino          1         17.837598   \n",
       "\n",
       "   Raw Residuals  Squared Residuals  Leverage  Studentized Residuals  \n",
       "0      -1.416046           2.005185  0.003676              -0.058947  \n",
       "1       1.108520           1.228817  0.008876               0.046267  \n",
       "2       1.740849           3.030555  0.006130               0.072558  \n",
       "3      -0.259151           0.067159  0.006130              -0.010801  \n",
       "4      -0.837598           0.701571  0.004730              -0.034886  "
      ]
     },
     "metadata": {},
     "output_type": "display_data"
    }
   ],
   "source": [
    "# Fit diagnostics\n",
    "\n",
    "# Hat matrix\n",
    "hatMatrix = predMat * np.linalg.inv(predMat.T * predMat) * predMat.T\n",
    "\n",
    "# Add fit diagnostics\n",
    "auto.loc[:,\"Predicted Values\"] = autoSimple.predict(auto[\"horsepower\"].reshape(-1, 1))\n",
    "auto.loc[:,\"Raw Residuals\"] = auto.loc[:,\"mpg\"] - auto.loc[:,\"Predicted Values\"]\n",
    "auto.loc[:, \"Squared Residuals\"] = auto.loc[:,\"Raw Residuals\"] ** 2\n",
    "auto.loc[:,\"Leverage\"] = np.diag(hatMatrix)\n",
    "auto.loc[:,\"Studentized Residuals\"] = auto.loc[:,\"Raw Residuals\"] / (varAuto * np.sqrt(1 - auto.loc[:,\"Leverage\"]))\n",
    "display(auto.head(5))"
   ]
  },
  {
   "cell_type": "code",
   "execution_count": 23,
   "metadata": {
    "collapsed": false
   },
   "outputs": [
    {
     "data": {
      "image/png": "[encoded data removed]",
      "text/plain": [
       "<matplotlib.figure.Figure at 0xdc956d8>"
      ]
     },
     "metadata": {},
     "output_type": "display_data"
    },
    {
     "data": {
      "image/png": "[encoded data removed]",
      "text/plain": [
       "<matplotlib.figure.Figure at 0xdaec7f0>"
      ]
     },
     "metadata": {},
     "output_type": "display_data"
    },
    {
     "data": {
      "image/png": "[encoded data removed]",
      "text/plain": [
       "<matplotlib.figure.Figure at 0xd78bf98>"
      ]
     },
     "metadata": {},
     "output_type": "display_data"
    },
    {
     "data": {
      "image/png": "[encoded data removed]",
      "text/plain": [
       "<matplotlib.figure.Figure at 0xd7945c0>"
      ]
     },
     "metadata": {},
     "output_type": "display_data"
    },
    {
     "data": {
      "image/png": "[encoded data removed]",
      "text/plain": [
       "<matplotlib.figure.Figure at 0xd721588>"
      ]
     },
     "metadata": {},
     "output_type": "display_data"
    }
   ],
   "source": [
    "# Investigate diagnostics\n",
    "\n",
    "# Scatter plot of original data with regression line\n",
    "plt.scatter(auto[\"horsepower\"], auto[\"mpg\"], color = \"green\")\n",
    "plt.plot(auto[\"horsepower\"], auto[\"Predicted Values\"], color = \"blue\")\n",
    "plt.xlabel(\"Horsepower\")\n",
    "plt.ylabel(\"Fuel Economy (mpg)\")\n",
    "plt.show()\n",
    "\n",
    "# Plot of leverage vs. studentized residuals to look for significant outliers\n",
    "plt.scatter(auto[\"Leverage\"], auto[\"Studentized Residuals\"])\n",
    "plt.xlabel(\"Leverage\")\n",
    "plt.ylabel(\"Studentized Residuals\")\n",
    "plt.show()\n",
    "\n",
    "# Plot of fitted vs. observed values to determine fit, linearity\n",
    "plt.scatter(auto[\"Predicted Values\"], auto[\"mpg\"])\n",
    "plt.xlabel(\"Predicted Values\")\n",
    "plt.ylabel(\"Observed Values\")\n",
    "plt.show()\n",
    "\n",
    "# Histogram of residuals (to test normality of errors)\n",
    "plt.hist(auto[\"Raw Residuals\"], bins = 20)\n",
    "plt.title(\"Histogram of errors\")\n",
    "plt.show()\n",
    "\n",
    "# Plot of fitted values vs. residuals (to test for homoscedasticity)\n",
    "plt.scatter(auto[\"Predicted Values\"], auto[\"Studentized Residuals\"])\n",
    "plt.xlabel(\"Predicted Values\")\n",
    "plt.ylabel(\"Studentized Residuals\")\n",
    "plt.show()"
   ]
  },
  {
   "cell_type": "markdown",
   "metadata": {},
   "source": [
    "#### There is a strong relationship between horsepower and mpg. This is evidenced by the large F-statistic (599.718) and R^2 value (0.606) for the model, suggesting that over 60% of the variance in mpg can be attributed to horsepower. The coefficient of “horsepower” in the model has a p-value less than 0.05. The relationship is negative (as horsepower increases, mpg decreases), and a horsepower of 98 would predict an mpg of 39.936 - 0.158(98) = 24.452.\n",
    "#### However, this might not be the best form of the model. The \"kinks\" in the first two scatter plots suggest that the relationship between  horsepower and mpg may not be strictly linear. There do not appear to be highly influential outliers. The residuals are, for the most part, normally distributed. The final plot shows a high level of heteroscedasticity in the residuals which will bias the standard errors and may lead to incorrect conclusions about the significance of the parameter estimates. "
   ]
  },
  {
   "cell_type": "markdown",
   "metadata": {
    "collapsed": true
   },
   "source": [
    "# 9) Multiple regression"
   ]
  },
  {
   "cell_type": "code",
   "execution_count": 24,
   "metadata": {
    "collapsed": false
   },
   "outputs": [
    {
     "data": {
      "text/html": [
       "<div>\n",
       "<table border=\"1\" class=\"dataframe\">\n",
       "  <thead>\n",
       "    <tr style=\"text-align: right;\">\n",
       "      <th></th>\n",
       "      <th>mpg</th>\n",
       "      <th>cylinders</th>\n",
       "      <th>displacement</th>\n",
       "      <th>horsepower</th>\n",
       "      <th>weight</th>\n",
       "      <th>acceleration</th>\n",
       "      <th>year</th>\n",
       "      <th>origin</th>\n",
       "    </tr>\n",
       "  </thead>\n",
       "  <tbody>\n",
       "    <tr>\n",
       "      <th>mpg</th>\n",
       "      <td>1.000000</td>\n",
       "      <td>-0.777618</td>\n",
       "      <td>-0.805127</td>\n",
       "      <td>-0.778427</td>\n",
       "      <td>-0.832244</td>\n",
       "      <td>0.423329</td>\n",
       "      <td>0.580541</td>\n",
       "      <td>0.565209</td>\n",
       "    </tr>\n",
       "    <tr>\n",
       "      <th>cylinders</th>\n",
       "      <td>-0.777618</td>\n",
       "      <td>1.000000</td>\n",
       "      <td>0.950823</td>\n",
       "      <td>0.842983</td>\n",
       "      <td>0.897527</td>\n",
       "      <td>-0.504683</td>\n",
       "      <td>-0.345647</td>\n",
       "      <td>-0.568932</td>\n",
       "    </tr>\n",
       "    <tr>\n",
       "      <th>displacement</th>\n",
       "      <td>-0.805127</td>\n",
       "      <td>0.950823</td>\n",
       "      <td>1.000000</td>\n",
       "      <td>0.897257</td>\n",
       "      <td>0.932994</td>\n",
       "      <td>-0.543800</td>\n",
       "      <td>-0.369855</td>\n",
       "      <td>-0.614535</td>\n",
       "    </tr>\n",
       "    <tr>\n",
       "      <th>horsepower</th>\n",
       "      <td>-0.778427</td>\n",
       "      <td>0.842983</td>\n",
       "      <td>0.897257</td>\n",
       "      <td>1.000000</td>\n",
       "      <td>0.864538</td>\n",
       "      <td>-0.689196</td>\n",
       "      <td>-0.416361</td>\n",
       "      <td>-0.455171</td>\n",
       "    </tr>\n",
       "    <tr>\n",
       "      <th>weight</th>\n",
       "      <td>-0.832244</td>\n",
       "      <td>0.897527</td>\n",
       "      <td>0.932994</td>\n",
       "      <td>0.864538</td>\n",
       "      <td>1.000000</td>\n",
       "      <td>-0.416839</td>\n",
       "      <td>-0.309120</td>\n",
       "      <td>-0.585005</td>\n",
       "    </tr>\n",
       "    <tr>\n",
       "      <th>acceleration</th>\n",
       "      <td>0.423329</td>\n",
       "      <td>-0.504683</td>\n",
       "      <td>-0.543800</td>\n",
       "      <td>-0.689196</td>\n",
       "      <td>-0.416839</td>\n",
       "      <td>1.000000</td>\n",
       "      <td>0.290316</td>\n",
       "      <td>0.212746</td>\n",
       "    </tr>\n",
       "    <tr>\n",
       "      <th>year</th>\n",
       "      <td>0.580541</td>\n",
       "      <td>-0.345647</td>\n",
       "      <td>-0.369855</td>\n",
       "      <td>-0.416361</td>\n",
       "      <td>-0.309120</td>\n",
       "      <td>0.290316</td>\n",
       "      <td>1.000000</td>\n",
       "      <td>0.181528</td>\n",
       "    </tr>\n",
       "    <tr>\n",
       "      <th>origin</th>\n",
       "      <td>0.565209</td>\n",
       "      <td>-0.568932</td>\n",
       "      <td>-0.614535</td>\n",
       "      <td>-0.455171</td>\n",
       "      <td>-0.585005</td>\n",
       "      <td>0.212746</td>\n",
       "      <td>0.181528</td>\n",
       "      <td>1.000000</td>\n",
       "    </tr>\n",
       "  </tbody>\n",
       "</table>\n",
       "</div>"
      ],
      "text/plain": [
       "                   mpg  cylinders  displacement  horsepower    weight  \\\n",
       "mpg           1.000000  -0.777618     -0.805127   -0.778427 -0.832244   \n",
       "cylinders    -0.777618   1.000000      0.950823    0.842983  0.897527   \n",
       "displacement -0.805127   0.950823      1.000000    0.897257  0.932994   \n",
       "horsepower   -0.778427   0.842983      0.897257    1.000000  0.864538   \n",
       "weight       -0.832244   0.897527      0.932994    0.864538  1.000000   \n",
       "acceleration  0.423329  -0.504683     -0.543800   -0.689196 -0.416839   \n",
       "year          0.580541  -0.345647     -0.369855   -0.416361 -0.309120   \n",
       "origin        0.565209  -0.568932     -0.614535   -0.455171 -0.585005   \n",
       "\n",
       "              acceleration      year    origin  \n",
       "mpg               0.423329  0.580541  0.565209  \n",
       "cylinders        -0.504683 -0.345647 -0.568932  \n",
       "displacement     -0.543800 -0.369855 -0.614535  \n",
       "horsepower       -0.689196 -0.416361 -0.455171  \n",
       "weight           -0.416839 -0.309120 -0.585005  \n",
       "acceleration      1.000000  0.290316  0.212746  \n",
       "year              0.290316  1.000000  0.181528  \n",
       "origin            0.212746  0.181528  1.000000  "
      ]
     },
     "metadata": {},
     "output_type": "display_data"
    }
   ],
   "source": [
    "# Correlation matrix\n",
    "\n",
    "names = [_ for _ in auto.ix[:, 0:8].columns]\n",
    "corr = pd.DataFrame(np.corrcoef(auto.ix[:, 0:8].T), index = names, columns = names)\n",
    "display(corr)"
   ]
  },
  {
   "cell_type": "code",
   "execution_count": 25,
   "metadata": {
    "collapsed": false
   },
   "outputs": [
    {
     "name": "stdout",
     "output_type": "stream",
     "text": [
      "[ -1.72184346e+01  -4.93376319e-01   1.98956437e-02  -1.69511442e-02\n",
      "  -6.47404340e-03   8.05758383e-02   7.50772678e-01   1.42614050e+00]\n"
     ]
    }
   ],
   "source": [
    "# Initiate and fit full multiple regression model\n",
    "autoMultReg = linear_model.LinearRegression()\n",
    "autoMultReg.fit(auto.ix[:, 1:8], auto.ix[:, \"mpg\"])\n",
    "autoParams = np.insert(autoMultReg.coef_, 0, autoMultReg.intercept_)\n",
    "print autoParams"
   ]
  },
  {
   "cell_type": "code",
   "execution_count": 26,
   "metadata": {
    "collapsed": false
   },
   "outputs": [
    {
     "name": "stdout",
     "output_type": "stream",
     "text": [
      "Sum of square errors, full model: 4252.213\n",
      "Residual standard error, full model: 3.328\n",
      "F-statistic: 252.428\n",
      "R^2: 0.821\n"
     ]
    }
   ],
   "source": [
    "# Model fit statistics\n",
    "\n",
    "rssAuto = sum((auto.ix[:, \"mpg\"] - autoMultReg.predict(auto.ix[:, 1:8]))**2)\n",
    "rseAuto = np.sqrt(rssAuto / (auto.shape[0] - 1 - np.size(autoMultReg.coef_)))\n",
    "fAuto = ((tssAuto - rssAuto) / np.size(autoMultReg.coef_)) / (rssAuto / (auto.shape[0] - np.size(autoMultReg.coef_) - 1))\n",
    "r2Auto = autoMultReg.score(auto.ix[:, 1:8], auto.ix[:, \"mpg\"])\n",
    "print \"Sum of square errors, full model: %.3f\" % rssAuto\n",
    "print \"Residual standard error, full model: %.3f\" % rseAuto\n",
    "print \"F-statistic: %.3f\" % fAuto\n",
    "print \"R^2: %.3f\" % r2Auto"
   ]
  },
  {
   "cell_type": "code",
   "execution_count": 27,
   "metadata": {
    "collapsed": false
   },
   "outputs": [
    {
     "name": "stdout",
     "output_type": "stream",
     "text": [
      "Intercept and Regression Coefficients:  [ -1.72184346e+01  -4.93376319e-01   1.98956437e-02  -1.69511442e-02\n",
      "  -6.47404340e-03   8.05758383e-02   7.50772678e-01   1.42614050e+00]\n",
      "Standard Errors of Estimates:  [  4.64429415e+00   3.23282315e-01   7.51507916e-03   1.37868914e-02\n",
      "   6.52047761e-04   9.88449567e-02   5.09731223e-02   2.78136092e-01]\n",
      "T-Statistics of Estimates:  [ -3.70743843  -1.52614695   2.6474297   -1.22951169  -9.92878711\n",
      "   0.815174    14.72879519   5.12749166]\n",
      "P-values:  [  2.39607376e-04   1.27781737e-01   8.43861857e-03   2.19619355e-01\n",
      "   7.23102272e-21   4.15468977e-01   2.25690965e-39   4.62876104e-07]\n"
     ]
    }
   ],
   "source": [
    "# Creating diagnostic stats\n",
    "auto.loc[:,\"Intercept\"] = 1\n",
    "predMat = np.matrix(auto.ix[:, [\"Intercept\", \"cylinders\", \"displacement\", \"horsepower\", \"weight\", \"acceleration\", \"year\", \"origin\"]])\n",
    "varAuto = rssAuto / (auto.shape[0] - np.size(autoMultReg.coef_) - 1)\n",
    "covAuto = varAuto * np.linalg.inv(predMat.T * predMat)\n",
    "stdErrors = np.sqrt(np.diag(covAuto))\n",
    "tTests = autoParams / stdErrors\n",
    "pVals = stats.t.sf(np.abs(tTests), auto.shape[0] - 1) * 2 \n",
    "print \"Intercept and Regression Coefficients: \", autoParams\n",
    "print \"Standard Errors of Estimates: \", stdErrors\n",
    "print \"T-Statistics of Estimates: \", tTests\n",
    "print \"P-values: \", pVals"
   ]
  },
  {
   "cell_type": "markdown",
   "metadata": {},
   "source": [
    "#### Notice that \"acceleration\" has the largest p-value. It will be the first feature removed when tuning the model. "
   ]
  },
  {
   "cell_type": "code",
   "execution_count": 28,
   "metadata": {
    "collapsed": false
   },
   "outputs": [
    {
     "data": {
      "text/html": [
       "<div>\n",
       "<table border=\"1\" class=\"dataframe\">\n",
       "  <thead>\n",
       "    <tr style=\"text-align: right;\">\n",
       "      <th></th>\n",
       "      <th>mpg</th>\n",
       "      <th>cylinders</th>\n",
       "      <th>displacement</th>\n",
       "      <th>horsepower</th>\n",
       "      <th>weight</th>\n",
       "      <th>acceleration</th>\n",
       "      <th>year</th>\n",
       "      <th>origin</th>\n",
       "      <th>name</th>\n",
       "      <th>Intercept</th>\n",
       "      <th>Predicted Values</th>\n",
       "      <th>Raw Residuals</th>\n",
       "      <th>Squared Residuals</th>\n",
       "      <th>Leverage</th>\n",
       "      <th>Studentized Residuals</th>\n",
       "    </tr>\n",
       "  </thead>\n",
       "  <tbody>\n",
       "    <tr>\n",
       "      <th>0</th>\n",
       "      <td>18.0</td>\n",
       "      <td>8</td>\n",
       "      <td>307.0</td>\n",
       "      <td>130.0</td>\n",
       "      <td>3504.0</td>\n",
       "      <td>12.0</td>\n",
       "      <td>70</td>\n",
       "      <td>1</td>\n",
       "      <td>chevrolet chevelle malibu</td>\n",
       "      <td>1</td>\n",
       "      <td>15.000959</td>\n",
       "      <td>2.999041</td>\n",
       "      <td>8.994249</td>\n",
       "      <td>0.023231</td>\n",
       "      <td>0.911895</td>\n",
       "    </tr>\n",
       "    <tr>\n",
       "      <th>1</th>\n",
       "      <td>15.0</td>\n",
       "      <td>8</td>\n",
       "      <td>350.0</td>\n",
       "      <td>165.0</td>\n",
       "      <td>3693.0</td>\n",
       "      <td>11.5</td>\n",
       "      <td>70</td>\n",
       "      <td>1</td>\n",
       "      <td>buick skylark 320</td>\n",
       "      <td>1</td>\n",
       "      <td>13.999299</td>\n",
       "      <td>1.000701</td>\n",
       "      <td>1.001402</td>\n",
       "      <td>0.018117</td>\n",
       "      <td>0.303482</td>\n",
       "    </tr>\n",
       "    <tr>\n",
       "      <th>2</th>\n",
       "      <td>18.0</td>\n",
       "      <td>8</td>\n",
       "      <td>318.0</td>\n",
       "      <td>150.0</td>\n",
       "      <td>3436.0</td>\n",
       "      <td>11.0</td>\n",
       "      <td>70</td>\n",
       "      <td>1</td>\n",
       "      <td>plymouth satellite</td>\n",
       "      <td>1</td>\n",
       "      <td>15.240447</td>\n",
       "      <td>2.759553</td>\n",
       "      <td>7.615133</td>\n",
       "      <td>0.021558</td>\n",
       "      <td>0.838358</td>\n",
       "    </tr>\n",
       "    <tr>\n",
       "      <th>3</th>\n",
       "      <td>16.0</td>\n",
       "      <td>8</td>\n",
       "      <td>304.0</td>\n",
       "      <td>150.0</td>\n",
       "      <td>3433.0</td>\n",
       "      <td>12.0</td>\n",
       "      <td>70</td>\n",
       "      <td>1</td>\n",
       "      <td>amc rebel sst</td>\n",
       "      <td>1</td>\n",
       "      <td>15.061906</td>\n",
       "      <td>0.938094</td>\n",
       "      <td>0.880021</td>\n",
       "      <td>0.022267</td>\n",
       "      <td>0.285098</td>\n",
       "    </tr>\n",
       "    <tr>\n",
       "      <th>4</th>\n",
       "      <td>17.0</td>\n",
       "      <td>8</td>\n",
       "      <td>302.0</td>\n",
       "      <td>140.0</td>\n",
       "      <td>3449.0</td>\n",
       "      <td>10.5</td>\n",
       "      <td>70</td>\n",
       "      <td>1</td>\n",
       "      <td>ford torino</td>\n",
       "      <td>1</td>\n",
       "      <td>14.967178</td>\n",
       "      <td>2.032822</td>\n",
       "      <td>4.132367</td>\n",
       "      <td>0.025870</td>\n",
       "      <td>0.618941</td>\n",
       "    </tr>\n",
       "  </tbody>\n",
       "</table>\n",
       "</div>"
      ],
      "text/plain": [
       "    mpg  cylinders  displacement  horsepower  weight  acceleration  year  \\\n",
       "0  18.0          8         307.0       130.0  3504.0          12.0    70   \n",
       "1  15.0          8         350.0       165.0  3693.0          11.5    70   \n",
       "2  18.0          8         318.0       150.0  3436.0          11.0    70   \n",
       "3  16.0          8         304.0       150.0  3433.0          12.0    70   \n",
       "4  17.0          8         302.0       140.0  3449.0          10.5    70   \n",
       "\n",
       "   origin                       name  Intercept  Predicted Values  \\\n",
       "0       1  chevrolet chevelle malibu          1         15.000959   \n",
       "1       1          buick skylark 320          1         13.999299   \n",
       "2       1         plymouth satellite          1         15.240447   \n",
       "3       1              amc rebel sst          1         15.061906   \n",
       "4       1                ford torino          1         14.967178   \n",
       "\n",
       "   Raw Residuals  Squared Residuals  Leverage  Studentized Residuals  \n",
       "0       2.999041           8.994249  0.023231               0.911895  \n",
       "1       1.000701           1.001402  0.018117               0.303482  \n",
       "2       2.759553           7.615133  0.021558               0.838358  \n",
       "3       0.938094           0.880021  0.022267               0.285098  \n",
       "4       2.032822           4.132367  0.025870               0.618941  "
      ]
     },
     "metadata": {},
     "output_type": "display_data"
    }
   ],
   "source": [
    "hatMatrix = predMat * np.linalg.inv(predMat.T * predMat) * predMat.T\n",
    "auto.loc[:,\"Predicted Values\"] = autoMultReg.predict(auto.ix[:, 1:8])\n",
    "auto.loc[:,\"Raw Residuals\"] = auto.loc[:,\"mpg\"] - auto.loc[:,\"Predicted Values\"]\n",
    "auto.loc[:, \"Squared Residuals\"] = auto.loc[:,\"Raw Residuals\"] ** 2\n",
    "auto.loc[:,\"Leverage\"] = np.diag(hatMatrix)\n",
    "auto.loc[:,\"Studentized Residuals\"] = auto.loc[:,\"Raw Residuals\"] / (np.sqrt(varAuto * (1 - auto.loc[:,\"Leverage\"])))\n",
    "display(auto.head(5))"
   ]
  },
  {
   "cell_type": "code",
   "execution_count": 29,
   "metadata": {
    "collapsed": false
   },
   "outputs": [
    {
     "data": {
      "image/png": "[encoded data removed]",
      "text/plain": [
       "<matplotlib.figure.Figure at 0xd52e2e8>"
      ]
     },
     "metadata": {},
     "output_type": "display_data"
    },
    {
     "data": {
      "image/png": "[encoded data removed]",
      "text/plain": [
       "<matplotlib.figure.Figure at 0xe14ac88>"
      ]
     },
     "metadata": {},
     "output_type": "display_data"
    },
    {
     "data": {
      "image/png": "[encoded data removed]",
      "text/plain": [
       "<matplotlib.figure.Figure at 0xd94fb00>"
      ]
     },
     "metadata": {},
     "output_type": "display_data"
    },
    {
     "data": {
      "image/png": "[encoded data removed]",
      "text/plain": [
       "<matplotlib.figure.Figure at 0xe43a160>"
      ]
     },
     "metadata": {},
     "output_type": "display_data"
    }
   ],
   "source": [
    "# Investigate diagnostics\n",
    "\n",
    "# Scatter plot of original data with regression line\n",
    "# plt.scatter(auto[\"horsepower\"], auto[\"mpg\"], color = \"green\")\n",
    "# plt.plot(auto[\"horsepower\"], auto[\"Fitted Values\"], color = \"blue\")\n",
    "# plt.xlabel(\"Horsepower\")\n",
    "# plt.ylabel(\"Fuel Economy (mpg)\")\n",
    "# plt.show()\n",
    "\n",
    "# Plot of leverage vs. studentized residuals to look for significant outliers\n",
    "plt.scatter(auto[\"Leverage\"], auto[\"Studentized Residuals\"])\n",
    "plt.xlabel(\"Leverage\")\n",
    "plt.ylabel(\"Studentized Residuals\")\n",
    "plt.show()\n",
    "\n",
    "# Plot of fitted vs. observed values to determine fit, linearity\n",
    "plt.scatter(auto[\"Predicted Values\"], auto[\"mpg\"])\n",
    "plt.xlabel(\"Predicted Values\")\n",
    "plt.ylabel(\"Observed Values\")\n",
    "plt.show()\n",
    "\n",
    "# Histogram of residuals (to test normality of errors)\n",
    "plt.hist(auto[\"Raw Residuals\"], bins = 20)\n",
    "plt.title(\"Histogram of errors\")\n",
    "plt.show()\n",
    "\n",
    "# Plot of fitted values vs. residuals (to test for homoscedasticity)\n",
    "plt.scatter(auto[\"Predicted Values\"], auto[\"Studentized Residuals\"])\n",
    "plt.xlabel(\"Predicted Values\")\n",
    "plt.ylabel(\"Studentized Residuals\")\n",
    "plt.show()"
   ]
  },
  {
   "cell_type": "markdown",
   "metadata": {},
   "source": [
    "#### The full multiple regression model is better at predicting mpg than the simple regression model with only \"horsepower.\" However, the diagnostic plots still show a departure from true linearity and the presence of heteroscedasticity in the residuals."
   ]
  },
  {
   "cell_type": "markdown",
   "metadata": {},
   "source": [
    "#### In order to better fit these assumptions, we are going to apply a square root transformation to the dependent variable and remove \"acceleration\" as a predictor. "
   ]
  },
  {
   "cell_type": "code",
   "execution_count": 30,
   "metadata": {
    "collapsed": false
   },
   "outputs": [],
   "source": [
    "# Create \"sqrtMpg\" column\n",
    "auto.loc[:, \"sqrtMpg\"] = np.sqrt(auto[\"mpg\"])"
   ]
  },
  {
   "cell_type": "code",
   "execution_count": 31,
   "metadata": {
    "collapsed": false
   },
   "outputs": [
    {
     "name": "stdout",
     "output_type": "stream",
     "text": [
      "[  1.13154999e+00  -5.98687213e-02   1.73098593e-03  -2.74782240e-03\n",
      "  -6.27990435e-04   7.37010713e-02   1.21733160e-01]\n"
     ]
    }
   ],
   "source": [
    "# Fit model\n",
    "sqrtMpg = linear_model.LinearRegression()\n",
    "sqrtMpg.fit(auto.ix[:, [1, 2, 3, 4, 6, 7]], auto.ix[:,\"sqrtMpg\"])\n",
    "sqrtParams = np.insert(sqrtMpg.coef_, 0, sqrtMpg.intercept_)\n",
    "print sqrtParams"
   ]
  },
  {
   "cell_type": "code",
   "execution_count": 32,
   "metadata": {
    "collapsed": false
   },
   "outputs": [
    {
     "name": "stdout",
     "output_type": "stream",
     "text": [
      "Sum of square errors, reduced model: 36.297\n",
      "Residual standard error, reduced model: 0.307\n",
      "F-statistic: 381.611\n",
      "R^2: 0.856\n"
     ]
    }
   ],
   "source": [
    "tssAuto = sum((auto[\"sqrtMpg\"] - np.mean(auto[\"sqrtMpg\"]))**2)\n",
    "rssAuto = sum((auto.ix[:, \"sqrtMpg\"] - sqrtMpg.predict(auto.ix[:, [1, 2, 3, 4, 6, 7]])) ** 2)\n",
    "rseAuto = np.sqrt(rssAuto / (auto.shape[0] - 1 - np.size(sqrtMpg.coef_)))\n",
    "fAuto = ((tssAuto - rssAuto) / np.size(sqrtMpg.coef_)) / (rssAuto / (auto.shape[0] - np.size(sqrtMpg.coef_) - 1))\n",
    "r2Auto = sqrtMpg.score(auto.ix[:, [1, 2, 3, 4, 6, 7]], auto.ix[:, \"sqrtMpg\"])\n",
    "print \"Sum of square errors, reduced model: %.3f\" % rssAuto\n",
    "print \"Residual standard error, reduced model: %.3f\" % rseAuto\n",
    "print \"F-statistic: %.3f\" % fAuto\n",
    "print \"R^2: %.3f\" % r2Auto"
   ]
  },
  {
   "cell_type": "code",
   "execution_count": 33,
   "metadata": {
    "collapsed": false
   },
   "outputs": [
    {
     "name": "stdout",
     "output_type": "stream",
     "text": [
      "Intercept and Regression Coefficients:  [ -1.72184346e+01  -4.93376319e-01   1.98956437e-02  -1.69511442e-02\n",
      "  -6.47404340e-03   8.05758383e-02   7.50772678e-01   1.42614050e+00]\n",
      "Standard Errors of Estimates:  [  3.85419592e-01   2.97913328e-02   6.89785550e-04   1.00026067e-03\n",
      "   5.27435909e-05   4.68884313e-03   2.56626327e-02]\n",
      "T-Statistics of Estimates:  [  2.93589121  -2.00960198   2.50945519  -2.74710631 -11.90647856\n",
      "  15.71839134   4.74359594]\n",
      "P-values:  [  3.52240888e-03   4.51599467e-02   1.24951610e-02   6.29047098e-03\n",
      "   4.19772098e-28   1.69416309e-43   2.94783824e-06]\n"
     ]
    }
   ],
   "source": [
    "# Summary of parameter estimates\n",
    "auto.loc[:,\"Intercept\"] = 1\n",
    "predMat = np.matrix(auto.ix[:, [\"Intercept\", \"cylinders\", \"displacement\", \"horsepower\", \"weight\", \"year\", \"origin\"]])\n",
    "varAuto = rssAuto / (auto.shape[0] - np.size(sqrtMpg.coef_) - 1)\n",
    "covAuto = varAuto * np.linalg.inv(predMat.T * predMat)\n",
    "stdErrors = np.sqrt(np.diag(covAuto))\n",
    "tTests = sqrtParams / stdErrors\n",
    "pVals = stats.t.sf(np.abs(tTests), auto.shape[0] - 1) * 2 \n",
    "print \"Intercept and Regression Coefficients: \", autoParams\n",
    "print \"Standard Errors of Estimates: \", stdErrors\n",
    "print \"T-Statistics of Estimates: \", tTests\n",
    "print \"P-values: \", pVals"
   ]
  },
  {
   "cell_type": "markdown",
   "metadata": {},
   "source": [
    "#### All predictors in the model are now significant at the 0.05 level."
   ]
  },
  {
   "cell_type": "code",
   "execution_count": 34,
   "metadata": {
    "collapsed": false
   },
   "outputs": [
    {
     "data": {
      "text/html": [
       "<div>\n",
       "<table border=\"1\" class=\"dataframe\">\n",
       "  <thead>\n",
       "    <tr style=\"text-align: right;\">\n",
       "      <th></th>\n",
       "      <th>mpg</th>\n",
       "      <th>cylinders</th>\n",
       "      <th>displacement</th>\n",
       "      <th>horsepower</th>\n",
       "      <th>weight</th>\n",
       "      <th>acceleration</th>\n",
       "      <th>year</th>\n",
       "      <th>origin</th>\n",
       "      <th>name</th>\n",
       "      <th>Intercept</th>\n",
       "      <th>Predicted Values</th>\n",
       "      <th>Raw Residuals</th>\n",
       "      <th>Squared Residuals</th>\n",
       "      <th>Leverage</th>\n",
       "      <th>Studentized Residuals</th>\n",
       "      <th>sqrtMpg</th>\n",
       "    </tr>\n",
       "  </thead>\n",
       "  <tbody>\n",
       "    <tr>\n",
       "      <th>0</th>\n",
       "      <td>18.0</td>\n",
       "      <td>8</td>\n",
       "      <td>307.0</td>\n",
       "      <td>130.0</td>\n",
       "      <td>3504.0</td>\n",
       "      <td>12.0</td>\n",
       "      <td>70</td>\n",
       "      <td>1</td>\n",
       "      <td>chevrolet chevelle malibu</td>\n",
       "      <td>1</td>\n",
       "      <td>3.907126</td>\n",
       "      <td>0.335515</td>\n",
       "      <td>0.112570</td>\n",
       "      <td>0.019891</td>\n",
       "      <td>1.103749</td>\n",
       "      <td>4.242641</td>\n",
       "    </tr>\n",
       "    <tr>\n",
       "      <th>1</th>\n",
       "      <td>15.0</td>\n",
       "      <td>8</td>\n",
       "      <td>350.0</td>\n",
       "      <td>165.0</td>\n",
       "      <td>3693.0</td>\n",
       "      <td>11.5</td>\n",
       "      <td>70</td>\n",
       "      <td>1</td>\n",
       "      <td>buick skylark 320</td>\n",
       "      <td>1</td>\n",
       "      <td>3.766694</td>\n",
       "      <td>0.106289</td>\n",
       "      <td>0.011297</td>\n",
       "      <td>0.018035</td>\n",
       "      <td>0.349331</td>\n",
       "      <td>3.872983</td>\n",
       "    </tr>\n",
       "    <tr>\n",
       "      <th>2</th>\n",
       "      <td>18.0</td>\n",
       "      <td>8</td>\n",
       "      <td>318.0</td>\n",
       "      <td>150.0</td>\n",
       "      <td>3436.0</td>\n",
       "      <td>11.0</td>\n",
       "      <td>70</td>\n",
       "      <td>1</td>\n",
       "      <td>plymouth satellite</td>\n",
       "      <td>1</td>\n",
       "      <td>3.913913</td>\n",
       "      <td>0.328727</td>\n",
       "      <td>0.108062</td>\n",
       "      <td>0.020810</td>\n",
       "      <td>1.081927</td>\n",
       "      <td>4.242641</td>\n",
       "    </tr>\n",
       "    <tr>\n",
       "      <th>3</th>\n",
       "      <td>16.0</td>\n",
       "      <td>8</td>\n",
       "      <td>304.0</td>\n",
       "      <td>150.0</td>\n",
       "      <td>3433.0</td>\n",
       "      <td>12.0</td>\n",
       "      <td>70</td>\n",
       "      <td>1</td>\n",
       "      <td>amc rebel sst</td>\n",
       "      <td>1</td>\n",
       "      <td>3.891564</td>\n",
       "      <td>0.108436</td>\n",
       "      <td>0.011758</td>\n",
       "      <td>0.022267</td>\n",
       "      <td>0.357158</td>\n",
       "      <td>4.000000</td>\n",
       "    </tr>\n",
       "    <tr>\n",
       "      <th>4</th>\n",
       "      <td>17.0</td>\n",
       "      <td>8</td>\n",
       "      <td>302.0</td>\n",
       "      <td>140.0</td>\n",
       "      <td>3449.0</td>\n",
       "      <td>10.5</td>\n",
       "      <td>70</td>\n",
       "      <td>1</td>\n",
       "      <td>ford torino</td>\n",
       "      <td>1</td>\n",
       "      <td>3.905532</td>\n",
       "      <td>0.217574</td>\n",
       "      <td>0.047338</td>\n",
       "      <td>0.020581</td>\n",
       "      <td>0.716008</td>\n",
       "      <td>4.123106</td>\n",
       "    </tr>\n",
       "  </tbody>\n",
       "</table>\n",
       "</div>"
      ],
      "text/plain": [
       "    mpg  cylinders  displacement  horsepower  weight  acceleration  year  \\\n",
       "0  18.0          8         307.0       130.0  3504.0          12.0    70   \n",
       "1  15.0          8         350.0       165.0  3693.0          11.5    70   \n",
       "2  18.0          8         318.0       150.0  3436.0          11.0    70   \n",
       "3  16.0          8         304.0       150.0  3433.0          12.0    70   \n",
       "4  17.0          8         302.0       140.0  3449.0          10.5    70   \n",
       "\n",
       "   origin                       name  Intercept  Predicted Values  \\\n",
       "0       1  chevrolet chevelle malibu          1          3.907126   \n",
       "1       1          buick skylark 320          1          3.766694   \n",
       "2       1         plymouth satellite          1          3.913913   \n",
       "3       1              amc rebel sst          1          3.891564   \n",
       "4       1                ford torino          1          3.905532   \n",
       "\n",
       "   Raw Residuals  Squared Residuals  Leverage  Studentized Residuals   sqrtMpg  \n",
       "0       0.335515           0.112570  0.019891               1.103749  4.242641  \n",
       "1       0.106289           0.011297  0.018035               0.349331  3.872983  \n",
       "2       0.328727           0.108062  0.020810               1.081927  4.242641  \n",
       "3       0.108436           0.011758  0.022267               0.357158  4.000000  \n",
       "4       0.217574           0.047338  0.020581               0.716008  4.123106  "
      ]
     },
     "metadata": {},
     "output_type": "display_data"
    }
   ],
   "source": [
    "hatMatrix = predMat * np.linalg.inv(predMat.T * predMat) * predMat.T\n",
    "auto.loc[:,\"Predicted Values\"] = sqrtMpg.predict(auto.ix[:, [1, 2, 3, 4, 6, 7]])\n",
    "auto.loc[:,\"Raw Residuals\"] = auto.loc[:,\"sqrtMpg\"] - auto.loc[:,\"Predicted Values\"]\n",
    "auto.loc[:, \"Squared Residuals\"] = auto.loc[:,\"Raw Residuals\"] ** 2\n",
    "auto.loc[:,\"Leverage\"] = np.diag(hatMatrix)\n",
    "auto.loc[:,\"Studentized Residuals\"] = auto.loc[:,\"Raw Residuals\"] / (np.sqrt(varAuto * (1 - auto.loc[:,\"Leverage\"])))\n",
    "display(auto.head(5))"
   ]
  },
  {
   "cell_type": "code",
   "execution_count": 35,
   "metadata": {
    "collapsed": false
   },
   "outputs": [
    {
     "data": {
      "image/png": "[encoded data removed]",
      "text/plain": [
       "<matplotlib.figure.Figure at 0xda80978>"
      ]
     },
     "metadata": {},
     "output_type": "display_data"
    },
    {
     "data": {
      "image/png": "[encoded data removed]",
      "text/plain": [
       "<matplotlib.figure.Figure at 0x10a23278>"
      ]
     },
     "metadata": {},
     "output_type": "display_data"
    },
    {
     "data": {
      "image/png": "[encoded data removed]",
      "text/plain": [
       "<matplotlib.figure.Figure at 0x105ea5c0>"
      ]
     },
     "metadata": {},
     "output_type": "display_data"
    },
    {
     "data": {
      "image/png": "[encoded data removed]",
      "text/plain": [
       "<matplotlib.figure.Figure at 0x106f0fd0>"
      ]
     },
     "metadata": {},
     "output_type": "display_data"
    }
   ],
   "source": [
    "# Investigate diagnostics\n",
    "\n",
    "# Scatter plot of original data with regression line\n",
    "# plt.scatter(auto[\"horsepower\"], auto[\"mpg\"], color = \"green\")\n",
    "# plt.plot(auto[\"horsepower\"], auto[\"Fitted Values\"], color = \"blue\")\n",
    "# plt.xlabel(\"Horsepower\")\n",
    "# plt.ylabel(\"Fuel Economy (mpg)\")\n",
    "# plt.show()\n",
    "\n",
    "# Plot of leverage vs. studentized residuals to look for significant outliers\n",
    "plt.scatter(auto[\"Leverage\"], auto[\"Studentized Residuals\"])\n",
    "plt.xlabel(\"Leverage\")\n",
    "plt.ylabel(\"Studentized Residuals\")\n",
    "plt.show()\n",
    "\n",
    "# Plot of fitted vs. observed values to determine fit, linearity\n",
    "plt.scatter(auto[\"Predicted Values\"], auto[\"mpg\"])\n",
    "plt.xlabel(\"Predicted Values\")\n",
    "plt.ylabel(\"Observed Values\")\n",
    "plt.show()\n",
    "\n",
    "# Histogram of residuals (to test normality of errors)\n",
    "plt.hist(auto[\"Raw Residuals\"], bins = 20)\n",
    "plt.title(\"Histogram of errors\")\n",
    "plt.show()\n",
    "\n",
    "# Plot of fitted values vs. residuals (to test for homoscedasticity)\n",
    "plt.scatter(auto[\"Predicted Values\"], auto[\"Studentized Residuals\"])\n",
    "plt.xlabel(\"Predicted Values\")\n",
    "plt.ylabel(\"Studentized Residuals\")\n",
    "plt.show()"
   ]
  },
  {
   "cell_type": "markdown",
   "metadata": {
    "collapsed": true
   },
   "source": [
    "#### This model appears more linear and has less heteroscedasticity than the full, untransformed model.\n",
    "\n",
    "#### Though it is outside the scope of this chapter, the correlation matrix suggests that there might be collinearity between these predictors which, in turn, confounds the interpretation of parameter estimates. This could be alleviated by principal component analysis or factor analysis, a topic discussed later in the book. "
   ]
  }
 ],
 "metadata": {
  "anaconda-cloud": {},
  "kernelspec": {
   "display_name": "Python [py27]",
   "language": "python",
   "name": "Python [py27]"
  },
  "language_info": {
   "codemirror_mode": {
    "name": "ipython",
    "version": 2
   },
   "file_extension": ".py",
   "mimetype": "text/x-python",
   "name": "python",
   "nbconvert_exporter": "python",
   "pygments_lexer": "ipython2",
   "version": "2.7.12"
  }
 },
 "nbformat": 4,
 "nbformat_minor": 0
}
